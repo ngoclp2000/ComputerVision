{
 "cells": [
  {
   "cell_type": "markdown",
   "id": "533a5fe7",
   "metadata": {},
   "source": [
    "# Detect chessboard size"
   ]
  },
  {
   "cell_type": "code",
   "execution_count": null,
   "id": "3d35347e",
   "metadata": {},
   "outputs": [],
   "source": [
    "import cv2\n",
    "import numpy as np\n",
    "import matplotlib.pyplot as plt"
   ]
  },
  {
   "cell_type": "code",
   "execution_count": null,
   "id": "5e1ce9bb",
   "metadata": {},
   "outputs": [],
   "source": [
    "img = cv2.imread('images/Chessboard_0481.png')\n",
    "gray = cv2.cvtColor(img, cv2.COLOR_BGR2GRAY)\n",
    "print(\"Hello\")\n",
    "cv2.imshow('Original', gray)"
   ]
  },
  {
   "cell_type": "code",
   "execution_count": null,
   "id": "8951de64",
   "metadata": {},
   "outputs": [],
   "source": [
    "# Convert the grayscale image to the frequency domain\n",
    "dft = cv2.dft(np.float32(gray), flags=cv2.DFT_COMPLEX_OUTPUT)\n",
    "# Shift the zero-frequency component to the center\n",
    "dft_shift = np.fft.fftshift(dft)\n",
    "# Get the magnitude spectrum of the image\n",
    "magnitude_spectrum = 20 * np.log(cv2.magnitude(dft_shift[:, :, 0], dft_shift[:, :, 1]))\n",
    "\n",
    "plt.figure(figsize=(16,16))\n",
    "plt.imshow(magnitude_spectrum, cmap='gray')\n",
    "plt.show()"
   ]
  }
 ],
 "metadata": {
  "kernelspec": {
   "display_name": "Python 3 (ipykernel)",
   "language": "python",
   "name": "python3"
  },
  "language_info": {
   "codemirror_mode": {
    "name": "ipython",
    "version": 3
   },
   "file_extension": ".py",
   "mimetype": "text/x-python",
   "name": "python",
   "nbconvert_exporter": "python",
   "pygments_lexer": "ipython3",
   "version": "3.10.8"
  }
 },
 "nbformat": 4,
 "nbformat_minor": 5
}
